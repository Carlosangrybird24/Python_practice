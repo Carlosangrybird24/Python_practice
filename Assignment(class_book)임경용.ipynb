{
  "nbformat": 4,
  "nbformat_minor": 0,
  "metadata": {
    "colab": {
      "name": "Assignment(class_book)임경용.ipynb",
      "provenance": []
    },
    "kernelspec": {
      "name": "python3",
      "display_name": "Python 3"
    },
    "language_info": {
      "name": "python"
    }
  },
  "cells": [
    {
      "cell_type": "code",
      "execution_count": 12,
      "metadata": {
        "id": "WvhY_UCtILOd"
      },
      "outputs": [],
      "source": [
        "class Book:\n",
        "  def __init__(self,name,price,discountRate):\n",
        "    self.__bookName=name\n",
        "    self.__bookPrice=price\n",
        "    self.__bookDiscountRate=discountRate\n",
        "  \n",
        "  def setbookPrice(self,bookPrice):\n",
        "    if bookPrice>0:\n",
        "      self.__bookPrice=bookPrice\n",
        "  \n",
        "  def getBookPrice(self):\n",
        "    return self.__bookPrice\n",
        "  \n",
        "  def getDiscountBookPrice(self):\n",
        "    if self.__bookDiscountRate>=0 and self.__bookPrice>self.__bookDiscountRate:\n",
        "      discountedprice=self.__bookPrice*self.__bookDiscountRate/100\n",
        "      return discountedprice\n",
        "\n",
        "  def __str__(self):\n",
        "    return self.__bookName+\" \" + str(self.__bookPrice)+\"원 \"+str(self.__bookDiscountRate)+\"%\"\n",
        "\n",
        "    "
      ]
    },
    {
      "cell_type": "code",
      "source": [
        "booklist=[]\n",
        "mybook1=Book(\"SQL Plus\",50000,5)\n",
        "mybook2=Book(\"Java 2.0\",40000,3)\n",
        "mybook3=Book(\"JSP Servlet\",60000,6)\n",
        " \n",
        "booklist.append(mybook1)\n",
        "booklist.append(mybook2)\n",
        "booklist.append(mybook3)\n",
        "\n",
        "a=mybook1.getBookPrice()+mybook2.getBookPrice()+mybook3.getBookPrice()\n",
        "b=a-(mybook1.getDiscountBookPrice()+mybook2.getDiscountBookPrice()+mybook3.getDiscountBookPrice())\n",
        " \n",
        "for i in range(3):\n",
        "  print(booklist[i])\n",
        "  \n",
        "print(\"\\n책 가격의 합:\",a)\n",
        "print(\"할인 된 책 가격의 합:\",b)"
      ],
      "metadata": {
        "colab": {
          "base_uri": "https://localhost:8080/"
        },
        "id": "o5xf-apwIWty",
        "outputId": "32da0488-b215-4da9-ef42-02cd661ad47d"
      },
      "execution_count": 13,
      "outputs": [
        {
          "output_type": "stream",
          "name": "stdout",
          "text": [
            "SQL Plus 50000원 5%\n",
            "Java 2.0 40000원 3%\n",
            "JSP Servlet 60000원 6%\n",
            "\n",
            "책 가격의 합: 150000\n",
            "할인 된 책 가격의 합: 142700.0\n"
          ]
        }
      ]
    }
  ]
}