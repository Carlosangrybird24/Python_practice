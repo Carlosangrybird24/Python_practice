{
  "nbformat": 4,
  "nbformat_minor": 0,
  "metadata": {
    "colab": {
      "name": "lecture_01",
      "provenance": [],
      "collapsed_sections": [],
      "toc_visible": true
    },
    "kernelspec": {
      "name": "python3",
      "display_name": "Python 3"
    },
    "language_info": {
      "name": "python"
    }
  },
  "cells": [
    {
      "cell_type": "code",
      "execution_count": 20,
      "metadata": {
        "colab": {
          "base_uri": "https://localhost:8080/"
        },
        "id": "rNrZLWxkJ0jo",
        "outputId": "64bc2fcc-af97-4f17-ade5-2c9e96a4b458"
      },
      "outputs": [
        {
          "output_type": "stream",
          "name": "stdout",
          "text": [
            "결과값은 14 입니다.\n",
            "결과값은,2*7,입니다.\n"
          ]
        }
      ],
      "source": [
        "print(\"결과값은\",2*7,\"입니다.\")\n",
        "print(\"결과값은,2*7,입니다.\")\n"
      ]
    },
    {
      "cell_type": "code",
      "source": [
        "ftemp = 90.0\n",
        "ctemp = (ftemp-32.0)*5.0/9.0\n",
        "print(ctemp\n",
        "      )"
      ],
      "metadata": {
        "colab": {
          "base_uri": "https://localhost:8080/"
        },
        "id": "1LqgaM4GPMuT",
        "outputId": "a202346f-4100-48a3-8eab-ba19965b2055"
      },
      "execution_count": 30,
      "outputs": [
        {
          "output_type": "stream",
          "name": "stdout",
          "text": [
            "32.22222222222222\n"
          ]
        }
      ]
    },
    {
      "cell_type": "code",
      "source": [
        "print(\"안녕하세요? 여러분\")\n",
        "print(\"저는 파이썬을 무척 좋아합니다.\")\n",
        "print(\"9*8은 72 입니다.\")\n",
        "print(\"안녕히\",\"계세요.\")"
      ],
      "metadata": {
        "colab": {
          "base_uri": "https://localhost:8080/"
        },
        "id": "h7V_Ok-JdsgL",
        "outputId": "a1bec52c-d47d-44e8-aad0-b4a984da2776"
      },
      "execution_count": 35,
      "outputs": [
        {
          "output_type": "stream",
          "name": "stdout",
          "text": [
            "안녕하세요? 여러분\n",
            "저는 파이썬을 무척 좋아합니다.\n",
            "9*8은 72 입니다.\n",
            "안녕히 계세요.\n"
          ]
        }
      ]
    },
    {
      "cell_type": "code",
      "source": [
        "print('''안녕하세요? 여러분\n",
        "      저는 파이썬을 무척 좋아합니다.\n",
        "      9*8은 72 입니다.\n",
        "      안녕히 계세요.''')"
      ],
      "metadata": {
        "colab": {
          "base_uri": "https://localhost:8080/"
        },
        "id": "dYVHjPhdeTlE",
        "outputId": "6d079d45-26e8-483d-d4dd-c6888a39857c"
      },
      "execution_count": 38,
      "outputs": [
        {
          "output_type": "stream",
          "name": "stdout",
          "text": [
            "안녕하세요? 여러분\n",
            "      저는 파이썬을 무척 좋아합니다.\n",
            "      9*8은 72 입니다.\n",
            "      안녕히 계세요.\n"
          ]
        }
      ]
    },
    {
      "cell_type": "code",
      "source": [
        ""
      ],
      "metadata": {
        "id": "LTN0ny50e_di"
      },
      "execution_count": null,
      "outputs": []
    },
    {
      "cell_type": "code",
      "source": [
        ""
      ],
      "metadata": {
        "id": "UUtqfnBVc-lT"
      },
      "execution_count": null,
      "outputs": []
    },
    {
      "cell_type": "code",
      "source": [
        ""
      ],
      "metadata": {
        "id": "NoIOqGpvc6-j"
      },
      "execution_count": null,
      "outputs": []
    },
    {
      "cell_type": "code",
      "source": [
        ""
      ],
      "metadata": {
        "id": "oMrp67fXbbbC"
      },
      "execution_count": null,
      "outputs": []
    },
    {
      "cell_type": "code",
      "source": [
        ""
      ],
      "metadata": {
        "id": "IJoY3gudYsQI"
      },
      "execution_count": null,
      "outputs": []
    },
    {
      "cell_type": "code",
      "source": [
        ""
      ],
      "metadata": {
        "id": "o7Jy6wMpYq34"
      },
      "execution_count": null,
      "outputs": []
    },
    {
      "cell_type": "code",
      "source": [
        ""
      ],
      "metadata": {
        "id": "8HkDVL0eYhGQ"
      },
      "execution_count": null,
      "outputs": []
    },
    {
      "cell_type": "code",
      "source": [
        ""
      ],
      "metadata": {
        "id": "cL9UQyFdOIF8"
      },
      "execution_count": null,
      "outputs": []
    },
    {
      "cell_type": "code",
      "source": [
        ""
      ],
      "metadata": {
        "id": "Qvqw8SypOGC9"
      },
      "execution_count": null,
      "outputs": []
    },
    {
      "cell_type": "code",
      "source": [
        ""
      ],
      "metadata": {
        "id": "gr3k7qWFLgqz"
      },
      "execution_count": null,
      "outputs": []
    },
    {
      "cell_type": "code",
      "source": [
        ""
      ],
      "metadata": {
        "id": "Sanzv80JLHdE"
      },
      "execution_count": null,
      "outputs": []
    }
  ]
}
